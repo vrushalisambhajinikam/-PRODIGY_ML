{
 "cells": [
  {
   "cell_type": "code",
   "execution_count": 34,
   "id": "0b5af1e5",
   "metadata": {},
   "outputs": [],
   "source": [
    "import os\n",
    "os.environ[\"OMP_NUM_THREADS\"] = \"1\"\n",
    "\n",
    "import warnings\n"
   ]
  },
  {
   "cell_type": "code",
   "execution_count": 30,
   "id": "635bc16d",
   "metadata": {},
   "outputs": [],
   "source": [
    "import pandas as pd\n",
    "import numpy as np\n",
    "import matplotlib.pyplot as plt\n",
    "from sklearn.cluster import KMeans"
   ]
  },
  {
   "cell_type": "markdown",
   "id": "a88c58fa",
   "metadata": {},
   "source": [
    "## 2. Load the Dataset"
   ]
  },
  {
   "cell_type": "code",
   "execution_count": 7,
   "id": "b5665815",
   "metadata": {},
   "outputs": [
    {
     "name": "stdout",
     "output_type": "stream",
     "text": [
      "   CustomerID  Age  Annual_Income_k  Spending_Score\n",
      "0           1   58               65              17\n",
      "1           2   25               54               6\n",
      "2           3   19              110              40\n",
      "3           4   65               56              47\n",
      "4           5   35              150               6\n"
     ]
    }
   ],
   "source": [
    "file_path = \"customer_segmentation_data.csv\"  # Make sure this matches the uploaded file name\n",
    "df = pd.read_csv(file_path)\n",
    "\n",
    "# Display the first 5 rows of the dataset\n",
    "print(df.head())\n"
   ]
  },
  {
   "cell_type": "markdown",
   "id": "461395de",
   "metadata": {},
   "source": [
    "## 3. Understand the Data"
   ]
  },
  {
   "cell_type": "code",
   "execution_count": 9,
   "id": "7ecb4df0",
   "metadata": {},
   "outputs": [
    {
     "name": "stdout",
     "output_type": "stream",
     "text": [
      "<class 'pandas.core.frame.DataFrame'>\n",
      "RangeIndex: 200 entries, 0 to 199\n",
      "Data columns (total 4 columns):\n",
      " #   Column           Non-Null Count  Dtype\n",
      "---  ------           --------------  -----\n",
      " 0   CustomerID       200 non-null    int64\n",
      " 1   Age              200 non-null    int64\n",
      " 2   Annual_Income_k  200 non-null    int64\n",
      " 3   Spending_Score   200 non-null    int64\n",
      "dtypes: int64(4)\n",
      "memory usage: 6.4 KB\n",
      "None\n"
     ]
    }
   ],
   "source": [
    "information =df.info()\n",
    "print(information)"
   ]
  },
  {
   "cell_type": "code",
   "execution_count": 13,
   "id": "e377324f",
   "metadata": {},
   "outputs": [
    {
     "name": "stdout",
     "output_type": "stream",
     "text": [
      "CustomerID         0\n",
      "Age                0\n",
      "Annual_Income_k    0\n",
      "Spending_Score     0\n",
      "dtype: int64\n",
      "     CustomerID    Age  Annual_Income_k  Spending_Score\n",
      "0         False  False            False           False\n",
      "1         False  False            False           False\n",
      "2         False  False            False           False\n",
      "3         False  False            False           False\n",
      "4         False  False            False           False\n",
      "..          ...    ...              ...             ...\n",
      "195       False  False            False           False\n",
      "196       False  False            False           False\n",
      "197       False  False            False           False\n",
      "198       False  False            False           False\n",
      "199       False  False            False           False\n",
      "\n",
      "[200 rows x 4 columns]\n"
     ]
    }
   ],
   "source": [
    "#null val\n",
    "\n",
    "print(df.isnull().sum())\n",
    "print(df.isnull())"
   ]
  },
  {
   "cell_type": "code",
   "execution_count": 14,
   "id": "2e199b33",
   "metadata": {},
   "outputs": [
    {
     "name": "stdout",
     "output_type": "stream",
     "text": [
      "       CustomerID         Age  Annual_Income_k  Spending_Score\n",
      "count  200.000000  200.000000       200.000000       200.00000\n",
      "mean   100.500000   43.770000        77.710000        51.57500\n",
      "std     57.879185   15.259138        39.746507        28.67465\n",
      "min      1.000000   18.000000        15.000000         1.00000\n",
      "25%     50.750000   31.000000        41.750000        27.75000\n",
      "50%    100.500000   43.000000        75.500000        52.00000\n",
      "75%    150.250000   58.000000       114.500000        79.00000\n",
      "max    200.000000   70.000000       150.000000       100.00000\n"
     ]
    }
   ],
   "source": [
    "# Display statistics\n",
    "print(df.describe())"
   ]
  },
  {
   "cell_type": "code",
   "execution_count": null,
   "id": "63aabe5a",
   "metadata": {},
   "outputs": [],
   "source": []
  },
  {
   "cell_type": "markdown",
   "id": "d9548dd1",
   "metadata": {},
   "source": [
    "## 4. Select Features for Clustering"
   ]
  },
  {
   "cell_type": "code",
   "execution_count": 26,
   "id": "233484a0",
   "metadata": {},
   "outputs": [
    {
     "name": "stdout",
     "output_type": "stream",
     "text": [
      "   Annual_Income_k  Spending_Score\n",
      "0               65              17\n",
      "1               54               6\n",
      "2              110              40\n",
      "3               56              47\n",
      "4              150               6\n"
     ]
    }
   ],
   "source": [
    " # Select relevant features\n",
    "X = df[['Annual_Income_k', 'Spending_Score']]\n",
    "\n",
    "# Display selected features\n",
    "print(X.head())\n"
   ]
  },
  {
   "cell_type": "markdown",
   "id": "deb74456",
   "metadata": {},
   "source": [
    "5. Find Optimal Clusters Using Elbow Method\n",
    "The Elbow Method helps determine the best value for K."
   ]
  },
  {
   "cell_type": "code",
   "execution_count": 35,
   "id": "987fba1d",
   "metadata": {},
   "outputs": [
    {
     "name": "stderr",
     "output_type": "stream",
     "text": [
      "F:\\anaconda\\Lib\\site-packages\\sklearn\\cluster\\_kmeans.py:1382: UserWarning: KMeans is known to have a memory leak on Windows with MKL, when there are less chunks than available threads. You can avoid it by setting the environment variable OMP_NUM_THREADS=1.\n",
      "  warnings.warn(\n",
      "F:\\anaconda\\Lib\\site-packages\\sklearn\\cluster\\_kmeans.py:1382: UserWarning: KMeans is known to have a memory leak on Windows with MKL, when there are less chunks than available threads. You can avoid it by setting the environment variable OMP_NUM_THREADS=1.\n",
      "  warnings.warn(\n",
      "F:\\anaconda\\Lib\\site-packages\\sklearn\\cluster\\_kmeans.py:1382: UserWarning: KMeans is known to have a memory leak on Windows with MKL, when there are less chunks than available threads. You can avoid it by setting the environment variable OMP_NUM_THREADS=1.\n",
      "  warnings.warn(\n",
      "F:\\anaconda\\Lib\\site-packages\\sklearn\\cluster\\_kmeans.py:1382: UserWarning: KMeans is known to have a memory leak on Windows with MKL, when there are less chunks than available threads. You can avoid it by setting the environment variable OMP_NUM_THREADS=1.\n",
      "  warnings.warn(\n",
      "F:\\anaconda\\Lib\\site-packages\\sklearn\\cluster\\_kmeans.py:1382: UserWarning: KMeans is known to have a memory leak on Windows with MKL, when there are less chunks than available threads. You can avoid it by setting the environment variable OMP_NUM_THREADS=1.\n",
      "  warnings.warn(\n",
      "F:\\anaconda\\Lib\\site-packages\\sklearn\\cluster\\_kmeans.py:1382: UserWarning: KMeans is known to have a memory leak on Windows with MKL, when there are less chunks than available threads. You can avoid it by setting the environment variable OMP_NUM_THREADS=1.\n",
      "  warnings.warn(\n",
      "F:\\anaconda\\Lib\\site-packages\\sklearn\\cluster\\_kmeans.py:1382: UserWarning: KMeans is known to have a memory leak on Windows with MKL, when there are less chunks than available threads. You can avoid it by setting the environment variable OMP_NUM_THREADS=1.\n",
      "  warnings.warn(\n",
      "F:\\anaconda\\Lib\\site-packages\\sklearn\\cluster\\_kmeans.py:1382: UserWarning: KMeans is known to have a memory leak on Windows with MKL, when there are less chunks than available threads. You can avoid it by setting the environment variable OMP_NUM_THREADS=1.\n",
      "  warnings.warn(\n",
      "F:\\anaconda\\Lib\\site-packages\\sklearn\\cluster\\_kmeans.py:1382: UserWarning: KMeans is known to have a memory leak on Windows with MKL, when there are less chunks than available threads. You can avoid it by setting the environment variable OMP_NUM_THREADS=1.\n",
      "  warnings.warn(\n",
      "F:\\anaconda\\Lib\\site-packages\\sklearn\\cluster\\_kmeans.py:1382: UserWarning: KMeans is known to have a memory leak on Windows with MKL, when there are less chunks than available threads. You can avoid it by setting the environment variable OMP_NUM_THREADS=1.\n",
      "  warnings.warn(\n"
     ]
    },
    {
     "data": {
      "image/png": "[encoded data removed]",
      "text/plain": [
       "<Figure size 800x500 with 1 Axes>"
      ]
     },
     "metadata": {},
     "output_type": "display_data"
    }
   ],
   "source": [
    "# Use the Elbow Method to find the optimal number of clusters\n",
    "wcss = []\n",
    "\n",
    "for i in range(1, 11):\n",
    "    kmeans = KMeans(n_clusters=i, n_init=10, random_state=42)\n",
    "    kmeans.fit(X)\n",
    "    wcss.append(kmeans.inertia_)\n",
    "\n",
    "# Plot the Elbow Curve\n",
    "plt.figure(figsize=(8, 5))\n",
    "plt.plot(range(1, 11), wcss, marker='o', linestyle='--')\n",
    "plt.title('Elbow Method for Optimal K')\n",
    "plt.xlabel('Number of Clusters')\n",
    "plt.ylabel('WCSS')\n",
    "plt.show()\n",
    "\n",
    "warnings.filterwarnings(\"ignore\")\n"
   ]
  },
  {
   "cell_type": "code",
   "execution_count": null,
   "id": "adcda8d3",
   "metadata": {},
   "outputs": [],
   "source": []
  },
  {
   "cell_type": "code",
   "execution_count": null,
   "id": "9d664a05",
   "metadata": {},
   "outputs": [],
   "source": []
  },
  {
   "cell_type": "code",
   "execution_count": null,
   "id": "2a841e0e",
   "metadata": {},
   "outputs": [],
   "source": []
  }
 ],
 "metadata": {
  "kernelspec": {
   "display_name": "Python 3 (ipykernel)",
   "language": "python",
   "name": "python3"
  },
  "language_info": {
   "codemirror_mode": {
    "name": "ipython",
    "version": 3
   },
   "file_extension": ".py",
   "mimetype": "text/x-python",
   "name": "python",
   "nbconvert_exporter": "python",
   "pygments_lexer": "ipython3",
   "version": "3.11.7"
  }
 },
 "nbformat": 4,
 "nbformat_minor": 5
}
